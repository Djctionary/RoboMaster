{
 "cells": [
  {
   "cell_type": "code",
   "execution_count": 4,
   "id": "eae6a94c-e20b-49cd-8b16-462da7d26563",
   "metadata": {},
   "outputs": [
    {
     "name": "stdout",
     "output_type": "stream",
     "text": [
      "C:\\Users\\Djctionary\n"
     ]
    }
   ],
   "source": [
    "import os\n",
    "print(os.path.abspath('.'))"
   ]
  },
  {
   "cell_type": "markdown",
   "id": "98c81ab6-070a-40ac-8fb6-8cc139843ac9",
   "metadata": {},
   "source": [
    "`zip()` 是 Python 内置函数，用于将多个可迭代对象的对应元素逐对组合成元组的迭代器。它可以将多个可迭代对象的元素按照位置进行聚合，生成一个新的迭代器。每个元组的第 i 个元素来自于可迭代对象中的第 i 个元素。"
   ]
  },
  {
   "cell_type": "code",
   "execution_count": 2,
   "id": "b36aed8b-a0a7-48f5-9284-e475e8b29720",
   "metadata": {},
   "outputs": [
    {
     "name": "stdout",
     "output_type": "stream",
     "text": [
      "a\n",
      "b\n",
      "c\n"
     ]
    }
   ],
   "source": [
    "a = [1,2,3]\n",
    "b=['a','b','c']\n",
    "data=zip(a,b)\n",
    "for i in data:\n",
    "    print(i[1])"
   ]
  },
  {
   "cell_type": "code",
   "execution_count": 3,
   "id": "6e5f3d41-e6d4-4aaa-84b1-6e41239dcb5e",
   "metadata": {},
   "outputs": [
    {
     "name": "stdout",
     "output_type": "stream",
     "text": [
      "1 a\n",
      "2 b\n",
      "3 c\n"
     ]
    }
   ],
   "source": [
    "\n",
    "a = [1, 2, 3]\n",
    "b = ['a', 'b', 'c']\n",
    "c = zip(a, b)\n",
    "\n",
    "# 转换为列表\n",
    "result = list(c)  # [(1, 'a'), (2, 'b'), (3, 'c')]\n",
    "\n",
    "# 使用 for 循环遍历元素\n",
    "for x, y in zip(a, b):\n",
    "    print(x, y)  # 1 a\n"
   ]
  },
  {
   "cell_type": "markdown",
   "id": "84f75265-0954-4c48-9d74-4197ccdcf417",
   "metadata": {},
   "source": [
    "在 Python 中，`len(X)` 是一个内置函数，用于返回可迭代对象 X 的长度或元素个数。它通常用于获取列表、元组、字符串等对象的长度。\n"
   ]
  }
 ],
 "metadata": {
  "kernelspec": {
   "display_name": "Python 3 (ipykernel)",
   "language": "python",
   "name": "python3"
  },
  "language_info": {
   "codemirror_mode": {
    "name": "ipython",
    "version": 3
   },
   "file_extension": ".py",
   "mimetype": "text/x-python",
   "name": "python",
   "nbconvert_exporter": "python",
   "pygments_lexer": "ipython3",
   "version": "3.8.0"
  }
 },
 "nbformat": 4,
 "nbformat_minor": 5
}
